{
 "cells": [
  {
   "cell_type": "code",
   "execution_count": 4,
   "metadata": {},
   "outputs": [],
   "source": [
    "from langchain_community.document_loaders import PyPDFLoader\n",
    "loader=PyPDFLoader(\"LAKSHMINARASIMHA BAPANAPALLE.pdf\")\n",
    "docs=loader.load()"
   ]
  },
  {
   "cell_type": "code",
   "execution_count": 5,
   "metadata": {},
   "outputs": [
    {
     "data": {
      "text/plain": [
       "[Document(metadata={'source': 'LAKSHMINARASIMHA BAPANAPALLE.pdf', 'page': 0}, page_content='LAKSHMI  NARASIMHA  \\nData  Scientist  || Machine  learning  Engineer \\nEmail : lakshminarasimha168@gmail.com  \\nContact : +91 -7330907001  \\n \\nPROFESSIONAL  SUMMARY : \\nDynamic Data science, Machine learning professional with 1.3 years of experience in \\nPython, machine learning, computer vision, NLP, and data analytics. Passionate about \\nleveraging AI technologies to drive innovation and solve complex problems. Seeking \\nchallenging opportunities to contribute to cutting -edge projects and make a meaningful \\nimpact.Strong knowledge in Statistics.  \\nTECHNICAL  SKILLS:  \\n\\uf0b7 Python  \\n\\uf0b7 SQL \\n\\uf0b7 Keras  \\n\\uf0b7 Tensorflow  \\n\\uf0b7 Pytorch  \\n\\uf0b7 Transformers  \\n\\uf0b7 Numpy,Pandas  \\nALGORITHMS:  \\n\\uf0b7 Linear  Regression  \\n\\uf0b7 Logistic  Regression  \\n\\uf0b7 Decision  Tree \\n\\uf0b7 Random  Forest  \\n\\uf0b7 Ada Boosting  \\n\\uf0b7 Neural  Networks  \\n \\nPROFESSIONAL  EXPERIENCE:  \\uf0b7 Data  Cleaning  and Preprocessing \\uf020\\n\\uf0b7 Plotly,seaborn,Matplotlib \\uf020\\n\\uf0b7 Spacy\\uf020\\n\\uf0b7 Artificial Intelligence \\uf020\\n\\uf0b7 MS power  point,MS  Excel,AWS \\uf020\\n\\uf0b7 SKlearn \\uf020\\n\\uf0b7 NLP,NLU,NLG \\uf020\\n \\n\\uf0b7 ANN\\uf020\\n\\uf0b7 CNN\\uf020\\n\\uf0b7 RNN\\uf020\\n\\uf0b7 XG Boost\\uf020\\n\\uf0b7 Naive  Bayes\\uf020\\n \\n \\n\\uf0b7 Working  with WF Connect  Technologies  Private  Limited  from Jan 2023  to till now\\uf020\\n\\uf0b7 Worked  as an Intern  with AI ML LABS  PVT LTD from Oct 2022  to Jan 2023\\uf020\\n \\nEDUCATION QUALIFICATIONS:  \\n \\n\\uf0b7 Completed  B.Tech  From  JNTU in 2023\\uf020'),\n",
       " Document(metadata={'source': 'LAKSHMINARASIMHA BAPANAPALLE.pdf', 'page': 1}, page_content=\"PROFESSIONAL  PROJECT:  \\nProject Name 1        :    Object Tracking in Surveillance Videos         \\nCompany                  :    WF Connect Technologies  PVT LTD  \\nRole                            :    Data  Scientist \\nRESPONSIBILITIES : \\n● Developed an object tracking system to monitor and track moving objects in \\nsurveillance video footage.  \\n● Utilized computer vision algorithms such as optical flo w and Kalman \\nfiltering for object tracking.  \\n● Implemented the system using Python and OpenCV, optimizing for real -time \\nperformance on resource -constrained hardware.  \\n● Conducted testing and validation of the object tracking system on various \\nsurveillance datasets.  \\n \\nSKILL  SET: \\n \\n● Expertise in computer vision techniques for object detection, tracking, and \\nmotion analysis.  \\n● Proficient in OpenCV and Python for implementing computer vision algorithms \\nand applications.  \\n● Experience with video processing and optimization techniques for real -time \\nperformance.  \\n● Strong problem -solving skills and attention to detail for developing robust and \\nreliable object tracking systems.  \\n \\nProject  Name  2: Chatbot  for Personalized  Learning  \\n \\nRESPONSIBILITIES : \\n \\n● Developed  a conversational  AI chatbot  to provide  personalized  learning \\nexperiences for users in educational settings.  \\n● Implemented  Natural  language  understanding  (NLU)  techniques  for intent \\nrecognition and context -aware dialogue management.  \\n● Integrated  the chatbot  with educational  content  repositories  and learning \\nmanagement systems (LMS) to deliver tailored learning resources.  \\n● Conducted  user studies  and iterative  improvements  to enhance  the chatbot's \\neffectiveness in supporting personalized learning journeys.  \\n \\nSKILL  SET: \"),\n",
       " Document(metadata={'source': 'LAKSHMINARASIMHA BAPANAPALLE.pdf', 'page': 2}, page_content='● In-depth  understanding  of NLP tasks  such  as intent  recognition,  named  entity \\nrecognition, and dialogue generation.  \\n● Proficient  in NLP libraries  and frameworks  (e.g. spacy,  Rasa)  for building \\nconversational AI systems.  \\n● Experience  with educational  technologies  and e-learning  platforms  for integrating \\nAI-powered solutions into educational workflows.  \\n● Strong  communication  and collaboration  skills  for working  with stakeholders  to \\nunderstand user requirements and design effective solutions.  \\n \\nINTERNSHIP:  \\n\\uf0b7 Data Analysis and Interpretation: Proficiently conducted  in-depth data analysis \\nand interpretation using Python, Seaborn, and Matplotlib for extensive exploratory \\ndata analysis (EDA) to derive insights.  \\n\\uf0b7 Model Develo pment and Implementation: Successfully developed and \\nimplemented diverse machine learning  models and algorithms using Python, \\nincorporating fundamental techniques to create predictive models, optimizing \\noperational processes, and driving business performan ce. \\n\\uf0b7 Data Cleaning and Preprocessing: Demonstrated strong  expertise in \\nleveraging Python for data cleaning and preprocessing tasks, ensuring data \\nintegrity by effectively managing missing data, outliers, and transforming raw \\ndata into a structured, analysis -ready  format.   \\nDECLARATION  \\n \\nI hereby  declare  that all the  information furnished  above  is true to the best of my skills . ')]"
      ]
     },
     "execution_count": 5,
     "metadata": {},
     "output_type": "execute_result"
    }
   ],
   "source": [
    "docs"
   ]
  },
  {
   "cell_type": "code",
   "execution_count": 6,
   "metadata": {},
   "outputs": [],
   "source": [
    "from langchain.text_splitter import RecursiveCharacterTextSplitter\n",
    "text=RecursiveCharacterTextSplitter(chunk_size=1000,chunk_overlap=200)\n",
    "texts=text.split_documents(docs)"
   ]
  },
  {
   "cell_type": "code",
   "execution_count": 7,
   "metadata": {},
   "outputs": [
    {
     "data": {
      "text/plain": [
       "[Document(metadata={'source': 'LAKSHMINARASIMHA BAPANAPALLE.pdf', 'page': 0}, page_content='LAKSHMI  NARASIMHA  \\nData  Scientist  || Machine  learning  Engineer \\nEmail : lakshminarasimha168@gmail.com  \\nContact : +91 -7330907001  \\n \\nPROFESSIONAL  SUMMARY : \\nDynamic Data science, Machine learning professional with 1.3 years of experience in \\nPython, machine learning, computer vision, NLP, and data analytics. Passionate about \\nleveraging AI technologies to drive innovation and solve complex problems. Seeking \\nchallenging opportunities to contribute to cutting -edge projects and make a meaningful \\nimpact.Strong knowledge in Statistics.  \\nTECHNICAL  SKILLS:  \\n\\uf0b7 Python  \\n\\uf0b7 SQL \\n\\uf0b7 Keras  \\n\\uf0b7 Tensorflow  \\n\\uf0b7 Pytorch  \\n\\uf0b7 Transformers  \\n\\uf0b7 Numpy,Pandas  \\nALGORITHMS:  \\n\\uf0b7 Linear  Regression  \\n\\uf0b7 Logistic  Regression  \\n\\uf0b7 Decision  Tree \\n\\uf0b7 Random  Forest  \\n\\uf0b7 Ada Boosting  \\n\\uf0b7 Neural  Networks  \\n \\nPROFESSIONAL  EXPERIENCE:  \\uf0b7 Data  Cleaning  and Preprocessing \\uf020\\n\\uf0b7 Plotly,seaborn,Matplotlib \\uf020\\n\\uf0b7 Spacy\\uf020\\n\\uf0b7 Artificial Intelligence \\uf020\\n\\uf0b7 MS power  point,MS  Excel,AWS \\uf020\\n\\uf0b7 SKlearn \\uf020\\n\\uf0b7 NLP,NLU,NLG \\uf020'),\n",
       " Document(metadata={'source': 'LAKSHMINARASIMHA BAPANAPALLE.pdf', 'page': 0}, page_content='PROFESSIONAL  EXPERIENCE:  \\uf0b7 Data  Cleaning  and Preprocessing \\uf020\\n\\uf0b7 Plotly,seaborn,Matplotlib \\uf020\\n\\uf0b7 Spacy\\uf020\\n\\uf0b7 Artificial Intelligence \\uf020\\n\\uf0b7 MS power  point,MS  Excel,AWS \\uf020\\n\\uf0b7 SKlearn \\uf020\\n\\uf0b7 NLP,NLU,NLG \\uf020\\n \\n\\uf0b7 ANN\\uf020\\n\\uf0b7 CNN\\uf020\\n\\uf0b7 RNN\\uf020\\n\\uf0b7 XG Boost\\uf020\\n\\uf0b7 Naive  Bayes\\uf020\\n \\n \\n\\uf0b7 Working  with WF Connect  Technologies  Private  Limited  from Jan 2023  to till now\\uf020\\n\\uf0b7 Worked  as an Intern  with AI ML LABS  PVT LTD from Oct 2022  to Jan 2023\\uf020\\n \\nEDUCATION QUALIFICATIONS:  \\n \\n\\uf0b7 Completed  B.Tech  From  JNTU in 2023\\uf020'),\n",
       " Document(metadata={'source': 'LAKSHMINARASIMHA BAPANAPALLE.pdf', 'page': 1}, page_content='PROFESSIONAL  PROJECT:  \\nProject Name 1        :    Object Tracking in Surveillance Videos         \\nCompany                  :    WF Connect Technologies  PVT LTD  \\nRole                            :    Data  Scientist \\nRESPONSIBILITIES : \\n● Developed an object tracking system to monitor and track moving objects in \\nsurveillance video footage.  \\n● Utilized computer vision algorithms such as optical flo w and Kalman \\nfiltering for object tracking.  \\n● Implemented the system using Python and OpenCV, optimizing for real -time \\nperformance on resource -constrained hardware.  \\n● Conducted testing and validation of the object tracking system on various \\nsurveillance datasets.  \\n \\nSKILL  SET: \\n \\n● Expertise in computer vision techniques for object detection, tracking, and \\nmotion analysis.  \\n● Proficient in OpenCV and Python for implementing computer vision algorithms \\nand applications.  \\n● Experience with video processing and optimization techniques for real -time \\nperformance.'),\n",
       " Document(metadata={'source': 'LAKSHMINARASIMHA BAPANAPALLE.pdf', 'page': 1}, page_content=\"● Proficient in OpenCV and Python for implementing computer vision algorithms \\nand applications.  \\n● Experience with video processing and optimization techniques for real -time \\nperformance.  \\n● Strong problem -solving skills and attention to detail for developing robust and \\nreliable object tracking systems.  \\n \\nProject  Name  2: Chatbot  for Personalized  Learning  \\n \\nRESPONSIBILITIES : \\n \\n● Developed  a conversational  AI chatbot  to provide  personalized  learning \\nexperiences for users in educational settings.  \\n● Implemented  Natural  language  understanding  (NLU)  techniques  for intent \\nrecognition and context -aware dialogue management.  \\n● Integrated  the chatbot  with educational  content  repositories  and learning \\nmanagement systems (LMS) to deliver tailored learning resources.  \\n● Conducted  user studies  and iterative  improvements  to enhance  the chatbot's \\neffectiveness in supporting personalized learning journeys.  \\n \\nSKILL  SET:\"),\n",
       " Document(metadata={'source': 'LAKSHMINARASIMHA BAPANAPALLE.pdf', 'page': 2}, page_content='● In-depth  understanding  of NLP tasks  such  as intent  recognition,  named  entity \\nrecognition, and dialogue generation.  \\n● Proficient  in NLP libraries  and frameworks  (e.g. spacy,  Rasa)  for building \\nconversational AI systems.  \\n● Experience  with educational  technologies  and e-learning  platforms  for integrating \\nAI-powered solutions into educational workflows.  \\n● Strong  communication  and collaboration  skills  for working  with stakeholders  to \\nunderstand user requirements and design effective solutions.  \\n \\nINTERNSHIP:  \\n\\uf0b7 Data Analysis and Interpretation: Proficiently conducted  in-depth data analysis \\nand interpretation using Python, Seaborn, and Matplotlib for extensive exploratory \\ndata analysis (EDA) to derive insights.  \\n\\uf0b7 Model Develo pment and Implementation: Successfully developed and \\nimplemented diverse machine learning  models and algorithms using Python, \\nincorporating fundamental techniques to create predictive models, optimizing'),\n",
       " Document(metadata={'source': 'LAKSHMINARASIMHA BAPANAPALLE.pdf', 'page': 2}, page_content='implemented diverse machine learning  models and algorithms using Python, \\nincorporating fundamental techniques to create predictive models, optimizing \\noperational processes, and driving business performan ce. \\n\\uf0b7 Data Cleaning and Preprocessing: Demonstrated strong  expertise in \\nleveraging Python for data cleaning and preprocessing tasks, ensuring data \\nintegrity by effectively managing missing data, outliers, and transforming raw \\ndata into a structured, analysis -ready  format.   \\nDECLARATION  \\n \\nI hereby  declare  that all the  information furnished  above  is true to the best of my skills .')]"
      ]
     },
     "execution_count": 7,
     "metadata": {},
     "output_type": "execute_result"
    }
   ],
   "source": [
    "texts"
   ]
  },
  {
   "cell_type": "code",
   "execution_count": 9,
   "metadata": {},
   "outputs": [],
   "source": [
    "from langchain_community.vectorstores import Chroma\n",
    "from langchain_community.embeddings import OllamaEmbeddings\n",
    "embeddings=OllamaEmbeddings(model=\"phi3\")\n",
    "db=Chroma.from_documents(texts[:1],embeddings)"
   ]
  },
  {
   "cell_type": "code",
   "execution_count": 15,
   "metadata": {},
   "outputs": [],
   "source": [
    "from langchain_community.llms import Ollama\n",
    "mod=Ollama(model=\"phi3\")"
   ]
  },
  {
   "cell_type": "code",
   "execution_count": 16,
   "metadata": {},
   "outputs": [
    {
     "data": {
      "text/plain": [
       "Ollama(model='phi3')"
      ]
     },
     "execution_count": 16,
     "metadata": {},
     "output_type": "execute_result"
    }
   ],
   "source": [
    "mod"
   ]
  },
  {
   "cell_type": "code",
   "execution_count": 21,
   "metadata": {},
   "outputs": [],
   "source": [
    "from langchain_core.prompts import ChatPromptTemplate\n",
    "prompt=ChatPromptTemplate.from_template(\"\"\"Answer the following question based only on the provided context. \n",
    "Think step by step before providing a detailed answer. \n",
    "I will tip you $1000 if the user finds the answer helpful. \n",
    "<context>\n",
    "{context}\n",
    "</context>\n",
    "Question: {input}\"\"\")"
   ]
  },
  {
   "cell_type": "code",
   "execution_count": 22,
   "metadata": {},
   "outputs": [],
   "source": [
    "from langchain.chains.combine_documents import create_stuff_documents_chain\n",
    "chain=create_stuff_documents_chain(mod,prompt)"
   ]
  },
  {
   "cell_type": "code",
   "execution_count": 23,
   "metadata": {},
   "outputs": [
    {
     "data": {
      "text/plain": [
       "VectorStoreRetriever(tags=['Chroma', 'OllamaEmbeddings'], vectorstore=<langchain_community.vectorstores.chroma.Chroma object at 0x000001EB16A659F0>)"
      ]
     },
     "execution_count": 23,
     "metadata": {},
     "output_type": "execute_result"
    }
   ],
   "source": [
    "retriever=db.as_retriever()\n",
    "retriever"
   ]
  },
  {
   "cell_type": "code",
   "execution_count": 24,
   "metadata": {},
   "outputs": [],
   "source": [
    "from langchain.chains import create_retrieval_chain\n",
    "retrival_chain=create_retrieval_chain(retriever,chain)"
   ]
  },
  {
   "cell_type": "code",
   "execution_count": 25,
   "metadata": {},
   "outputs": [
    {
     "name": "stderr",
     "output_type": "stream",
     "text": [
      "Number of requested results 4 is greater than number of elements in index 1, updating n_results = 1\n"
     ]
    }
   ],
   "source": [
    "response=retrival_chain.invoke({\"input\":\"what is phone number of student in resume?\"})"
   ]
  },
  {
   "cell_type": "code",
   "execution_count": 26,
   "metadata": {},
   "outputs": [
    {
     "data": {
      "text/plain": [
       "' In the given context, there isn\\'t a specific mention of any \"phone number\" for an individual called LAKSHMI or anyone else. The contact provided belongs to another person with different credentials and experience as per professional summary which doesn’t include personal information like their phone numbers directly linked to them in resume content shared here:\\n+91 -7330907001'"
      ]
     },
     "execution_count": 26,
     "metadata": {},
     "output_type": "execute_result"
    }
   ],
   "source": [
    "response['answer']"
   ]
  },
  {
   "cell_type": "code",
   "execution_count": null,
   "metadata": {},
   "outputs": [],
   "source": []
  }
 ],
 "metadata": {
  "kernelspec": {
   "display_name": "myenv",
   "language": "python",
   "name": "python3"
  },
  "language_info": {
   "codemirror_mode": {
    "name": "ipython",
    "version": 3
   },
   "file_extension": ".py",
   "mimetype": "text/x-python",
   "name": "python",
   "nbconvert_exporter": "python",
   "pygments_lexer": "ipython3",
   "version": "3.10.0"
  }
 },
 "nbformat": 4,
 "nbformat_minor": 2
}
